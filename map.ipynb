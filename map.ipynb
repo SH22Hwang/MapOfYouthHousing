{
 "cells": [
  {
   "cell_type": "code",
   "execution_count": 1,
   "metadata": {},
   "outputs": [],
   "source": [
    "import pandas as pd\n",
    "from geopy.geocoders import Nominatim\n",
    "import folium"
   ]
  },
  {
   "cell_type": "code",
   "execution_count": 2,
   "metadata": {},
   "outputs": [],
   "source": [
    "# Geolocator 초기화\n",
    "geolocator = Nominatim(user_agent=\"myGeocoder\")"
   ]
  },
  {
   "cell_type": "code",
   "execution_count": 15,
   "metadata": {},
   "outputs": [],
   "source": [
    "# CSV 파일 불러오기\n",
    "seoul_path = \"dataset/24-3_Seoul.csv\"\n",
    "incheon_path = \"dataset/24-3_Incheon.csv\"  # 여기에 CSV 파일 경로를 입력하세요\n",
    "ggn_path = \"dataset/24-3_GyeonggiNorth.csv\"\n",
    "ggs_path = \"dataset/24-3_GyeonggiSouth_utf8.csv\"\n",
    "gn_path = \"dataset/24-3_Gyeongnam.csv\"\n",
    "bs_path = \"dataset/24-3_Busan.csv\"\n",
    "\n",
    "path_list = [seoul_path, incheon_path, ggn_path, ggs_path,\n",
    "             gn_path, bs_path]"
   ]
  },
  {
   "cell_type": "code",
   "execution_count": 19,
   "metadata": {},
   "outputs": [],
   "source": [
    "# 모든 주소를 담을 리스트\n",
    "address_list = []\n",
    "\n",
    "# 각 파일에서 도로명주소를 읽어와서 리스트에 추가\n",
    "for path in path_list:\n",
    "    try:\n",
    "        data = pd.read_csv(path, index_col=0)\n",
    "        # '(' 이후 문자열 제거 및 중복 제거\n",
    "        addresses = data['주소'].str.split('(').str[0].drop_duplicates()\n",
    "\n",
    "        # 리스트에 추가\n",
    "        address_list.extend(addresses)\n",
    "    except:\n",
    "        print(f\"추가 실패: {data['주소']}\")\n",
    "        \n",
    "# 중복된 주소 제거\n",
    "address_list = list(set(address_list))"
   ]
  },
  {
   "cell_type": "code",
   "execution_count": 6,
   "metadata": {},
   "outputs": [],
   "source": [
    "# import requests\n",
    "\n",
    "# # 수도권 지하철 노선 GeoJSON 데이터 URL\n",
    "# # url = 'https://raw.githubusercontent.com/pydata/folium/master/examples/data/subway.json'\n",
    "# url = 'https://raw.githubusercontent.com/rltjqdl1138/data-archive/main/metro/line/data-metro-line-1.0.0.json'\n",
    "\n",
    "# # GeoJSON 데이터 가져오기\n",
    "# response = requests.get(url)\n",
    "# subway_data = response.json()\n",
    "\n",
    "# # 기본 지도 생성 (서울 중심으로 초기화)\n",
    "# m = folium.Map(location=[37.5665, 126.978], zoom_start=11)\n",
    "\n",
    "# # GeoJSON 데이터를 지도에 추가\n",
    "# folium.GeoJson(subway_data, name='subway').add_to(m)\n"
   ]
  },
  {
   "cell_type": "code",
   "execution_count": null,
   "metadata": {},
   "outputs": [],
   "source": [
    "# 기본 지도 생성 (진주 중심으로 초기화)\n",
    "m = folium.Map(location=[35.1799, 128.1076], zoom_start=11)"
   ]
  },
  {
   "cell_type": "code",
   "execution_count": 20,
   "metadata": {},
   "outputs": [
    {
     "name": "stdout",
     "output_type": "stream",
     "text": [
      "주소 '경기도 용인시 처인구 명지로16번길 9-24'를 찾을 수 없습니다.\n",
      "주소 '경기도 수원시 권선구 권선로357번길 71'를 찾을 수 없습니다.\n",
      "주소 '경기도 구리시 안골로97번길 17-6'를 찾을 수 없습니다.\n",
      "주소 '경기도 이천시 설봉로82번길 29'를 찾을 수 없습니다.\n",
      "주소 '서울특별시 노원구 공릉로58라길 16'를 찾을 수 없습니다.\n",
      "주소 '경기도 용인시 처인구 포곡읍 전대로16번길 6 명석원룸'를 찾을 수 없습니다.\n",
      "주소 '서울특별시 도봉구 시루봉로23길 86'를 찾을 수 없습니다.\n",
      "주소 '경기도 용인시 기흥구 강남서로104번길 3-3'를 찾을 수 없습니다.\n"
     ]
    }
   ],
   "source": [
    "# 주소를 지도에 추가\n",
    "for address in address_list:\n",
    "    location = geolocator.geocode(address)\n",
    "    if location:  # 주소가 유효할 경우\n",
    "        folium.Marker(location=[location.latitude, location.longitude], popup=address).add_to(m)\n",
    "    else:\n",
    "        print(f\"주소 '{address}'를 찾을 수 없습니다.\")\n",
    "\n",
    "# 지도를 HTML 파일로 저장\n",
    "m.save('main_map.html')"
   ]
  },
  {
   "cell_type": "code",
   "execution_count": 70,
   "metadata": {},
   "outputs": [
    {
     "name": "stdout",
     "output_type": "stream",
     "text": [
      "['경상남도 창원시 의창구 도계두리길 108-8', '경상남도 김해시 평전로150번길 6', '경상남도 진주시 서장대로296번길 3', '경상남도 진주시 진주대로815번길 6-11', '경상남도 진주시 창렬로2번길 12-1', '경상남도 창원시 마산합포구 완월남3길 15', '경상남도 진주시 진양호로293번길 16-14', '경상남도 진주시 호탄길27번길 6-1', '경상남도 진주시 창렬로48번길 9', '경상남도 김해시 경원로55번길 38', '경상남도 창원시 의창구 의안로18번길 31', '경상남도 진주시 진주대로960번길 9-1', '경상남도 진주시 진양호로 409-5', '경상남도 진주시 진주대로960번길 7-4', '경상남도 김해시 분성로366번길 13-2', '경상남도 김해시 인제로220번길 21-15', '경상남도 진주시 호탄길27번길 4-2', '경상남도 진주시 진주대로942번길 19-6', '경상남도 창원시 의창구 도계두리길86번길 15', '경상남도 창원시 마산합포구 문화북2길 19', '경상남도 진주시 창렬로2번길 18', '경상남도 김해시 구산로10번길 37-39', '경상남도 창원시 진해구 동진로49번길 8-3']\n"
     ]
    }
   ],
   "source": [
    "# 경남 지도\n",
    "m = folium.Map(location=[35.2538, 128.6402], zoom_start=11)\n",
    "\n",
    "gyeongnam_path = \"dataset/24-3_Gyeongnam.csv\"\n",
    "gyeongnam_data = pd.read_csv(gyeongnam_path, index_col=0)\n",
    "\n",
    "gyeongnam_addresses = gyeongnam_data['주소'].str.split('(').str[0].drop_duplicates()\n",
    "gyeongnam_address_list = list(set(gyeongnam_addresses))\n",
    "\n",
    "print(gyeongnam_address_list)"
   ]
  },
  {
   "cell_type": "code",
   "execution_count": 72,
   "metadata": {},
   "outputs": [
    {
     "name": "stdout",
     "output_type": "stream",
     "text": [
      "주소 '경상남도 창원시 마산합포구 완월남3길 15'를 찾을 수 없습니다.\n"
     ]
    }
   ],
   "source": [
    "# # 주소를 지도에 추가\n",
    "# for address in gyeongnam_address_list:\n",
    "#     location = geolocator.geocode(address)\n",
    "#     if location:  # 주소가 유효할 경우\n",
    "#         folium.Marker(location=[location.latitude, location.longitude], popup=address).add_to(m)\n",
    "#     else:\n",
    "#         print(f\"주소 '{address}'를 찾을 수 없습니다.\")\n",
    "\n",
    "# # 지도를 HTML 파일로 저장\n",
    "# m.save('gyeongnam_map.html')"
   ]
  },
  {
   "cell_type": "code",
   "execution_count": null,
   "metadata": {},
   "outputs": [],
   "source": []
  }
 ],
 "metadata": {
  "kernelspec": {
   "display_name": ".conda",
   "language": "python",
   "name": "python3"
  },
  "language_info": {
   "codemirror_mode": {
    "name": "ipython",
    "version": 3
   },
   "file_extension": ".py",
   "mimetype": "text/x-python",
   "name": "python",
   "nbconvert_exporter": "python",
   "pygments_lexer": "ipython3",
   "version": "3.11.11"
  }
 },
 "nbformat": 4,
 "nbformat_minor": 2
}
